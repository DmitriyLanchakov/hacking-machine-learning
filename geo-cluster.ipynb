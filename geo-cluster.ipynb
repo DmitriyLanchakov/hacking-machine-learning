{
 "cells": [
  {
   "cell_type": "markdown",
   "metadata": {},
   "source": [
    "Quoting the description:\n",
    "\n",
    "> This algorithm finds the most unexpected events in a set of geographic events relative to some reference set of events\n",
    "\n",
    "<img src=\"Screenshot1.png\" />"
   ]
  },
  {
   "cell_type": "markdown",
   "metadata": {},
   "source": [
    "Assume Linhda is tracking me.  I mean we have a healthy relationship.  It seems like she might secretly monitor my whereabouts, that seems reasonable.  But what if I didn't want her to know that I'd visited the comic book store.  Now she's a busy woman, so she's probably using an algorithm."
   ]
  },
  {
   "cell_type": "code",
   "execution_count": 31,
   "metadata": {
    "collapsed": true
   },
   "outputs": [],
   "source": [
    "%matplotlib inline\n",
    "import matplotlib.pyplot as plt\n",
    "import Algorithmia\n",
    "import numpy as np"
   ]
  },
  {
   "cell_type": "code",
   "execution_count": 23,
   "metadata": {
    "collapsed": true
   },
   "outputs": [],
   "source": [
    "data = [[47.625401388, -122.341846999], [47.627424837, -122.339708605]]\n",
    "reference = [[47.610975162999999, -122.33814674799999], [47.610440244999999, -122.33689051499999]]"
   ]
  },
  {
   "cell_type": "code",
   "execution_count": 24,
   "metadata": {
    "collapsed": false
   },
   "outputs": [
    {
     "name": "stdout",
     "output_type": "stream",
     "text": [
      "AlgoResponse(result={u'logprobs': {u'1': 4.527756077683622, u'0': 4.511270356968919}, u'outliers': [1, 0], u'all_lp': [4.527756077683622, 4.511270356968919]},metadata=Metadata(content_type='json',duration=0.350456319,stdout=None))\n"
     ]
    }
   ],
   "source": [
    "input = {\"data\": data, \"reference\": reference, \"n\": 3}\n",
    "client = Algorithmia.client('sime9LW7bScBtTy8eag15oGxNKc1')\n",
    "algo = client.algo('sklearn/GeographicOutlierDetection/0.2.5')\n",
    "resp = algo.pipe(input)\n",
    "print resp"
   ]
  },
  {
   "cell_type": "code",
   "execution_count": 54,
   "metadata": {
    "collapsed": false
   },
   "outputs": [
    {
     "data": {
      "image/png": "[encoded data removed]",
      "text/plain": [
       "<matplotlib.figure.Figure at 0x107f46050>"
      ]
     },
     "metadata": {},
     "output_type": "display_data"
    }
   ],
   "source": [
    "references = input['reference']\n",
    "data = input['data']\n",
    "outliers = resp.result['outliers']\n",
    "\n",
    "lats = []\n",
    "lons = []\n",
    "for reference in references:\n",
    "    lats.append(reference[0])\n",
    "    lons.append(reference[1])\n",
    "\n",
    "plt.scatter(lons, lats, color='green')\n",
    "\n",
    "\n",
    "lats = []\n",
    "lons = []\n",
    "for reference in data:\n",
    "    lats.append(reference[0])\n",
    "    lons.append(reference[1])\n",
    "\n",
    "plt.scatter(lons, lats, color='blue')\n",
    "\n",
    "filter = np.array(data[0]) * np.array(outliers) > 0\n",
    "plt.scatter(np.array(lons)[filter], np.array(lats)[filter], color='red', alpha=0.5, s=200)\n",
    "\n",
    "plt.xlabel('longitude')\n",
    "plt.ylabel('latitude')\n",
    "plt.show()"
   ]
  },
  {
   "cell_type": "markdown",
   "metadata": {},
   "source": [
    "# Demo of algorithm with real data\n",
    "# Discussion of why it would be used\n",
    "# How to hack it"
   ]
  },
  {
   "cell_type": "markdown",
   "metadata": {},
   "source": [
    "scores below are 0 - 4"
   ]
  }
 ],
 "metadata": {
  "celltoolbar": "Slideshow",
  "kernelspec": {
   "display_name": "Python 2",
   "language": "python",
   "name": "python2"
  },
  "language_info": {
   "codemirror_mode": {
    "name": "ipython",
    "version": 2
   },
   "file_extension": ".py",
   "mimetype": "text/x-python",
   "name": "python",
   "nbconvert_exporter": "python",
   "pygments_lexer": "ipython2",
   "version": "2.7.9"
  }
 },
 "nbformat": 4,
 "nbformat_minor": 0
}
