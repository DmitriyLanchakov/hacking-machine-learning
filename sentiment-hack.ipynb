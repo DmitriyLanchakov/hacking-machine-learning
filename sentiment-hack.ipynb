{
 "cells": [
  {
   "cell_type": "code",
   "execution_count": 12,
   "metadata": {
    "_datascience": {},
    "collapsed": false,
    "slideshow": {
     "slide_type": "skip"
    }
   },
   "outputs": [],
   "source": [
    "%matplotlib inline\n",
    "import matplotlib.pyplot as plt\n",
    "import Algorithmia\n",
    "import numpy as np\n",
    "import ConfigParser"
   ]
  },
  {
   "cell_type": "code",
   "execution_count": 13,
   "metadata": {
    "_datascience": {},
    "collapsed": false,
    "slideshow": {
     "slide_type": "skip"
    }
   },
   "outputs": [],
   "source": [
    "propertiesFile = \"my.properties\"\n",
    "cp = ConfigParser.ConfigParser()\n",
    "cp.readfp(open(propertiesFile))\n",
    "\n",
    "client_key = cp.get('algorithmia', 'client')\n",
    "\n",
    "client = Algorithmia.client(client_key)\n",
    "algo = client.algo('mtman/SentimentAnalysis/0.1.1')"
   ]
  },
  {
   "cell_type": "code",
   "execution_count": 14,
   "metadata": {
    "_datascience": {},
    "collapsed": true,
    "slideshow": {
     "slide_type": "subslide"
    }
   },
   "outputs": [],
   "source": [
    "inputs = ['I absolutely love the Hope Conference.  It is the most fun I have had in months!'\n",
    "          , 'Radio Statler broadcasts from the Hotel Pennsylvania during Hope xi'\n",
    "          , 'I hate the government because they spy on my email!!! Its the worst!']\n",
    "\n",
    "results = []\n",
    "for input in inputs:\n",
    "    results.append(algo.pipe(input))"
   ]
  },
  {
   "cell_type": "code",
   "execution_count": 15,
   "metadata": {
    "_datascience": {},
    "collapsed": true,
    "slideshow": {
     "slide_type": "subslide"
    }
   },
   "outputs": [],
   "source": [
    "scores = []\n",
    "for result in results:\n",
    "    scores.append(result.result)"
   ]
  },
  {
   "cell_type": "code",
   "execution_count": 16,
   "metadata": {
    "_datascience": {},
    "collapsed": false,
    "slideshow": {
     "slide_type": "slide"
    }
   },
   "outputs": [
    {
     "data": {
      "image/png": "[encoded data removed]",
      "text/plain": [
       "<matplotlib.figure.Figure at 0x7fb958163890>"
      ]
     },
     "metadata": {},
     "output_type": "display_data"
    }
   ],
   "source": [
    "x = np.arange(len(scores))\n",
    "plt.barh(x, scores)\n",
    "plt.xlabel('Sentiment score')\n",
    "plt.yticks(x + 0.4, inputs, fontsize=12)\n",
    "plt.gca().spines['top'].set_visible(False)\n",
    "plt.gca().spines['right'].set_visible(False)\n",
    "\n",
    "plt.show()"
   ]
  },
  {
   "cell_type": "markdown",
   "metadata": {
    "_datascience": {}
   },
   "source": [
    "Now, let's see how a series of small test cases get scored."
   ]
  },
  {
   "cell_type": "code",
   "execution_count": 17,
   "metadata": {
    "_datascience": {},
    "collapsed": false,
    "slideshow": {
     "slide_type": "slide"
    }
   },
   "outputs": [
    {
     "name": "stdout",
     "output_type": "stream",
     "text": [
      "-0.75\n"
     ]
    }
   ],
   "source": [
    "print(algo.pipe('i hate this').result)"
   ]
  },
  {
   "cell_type": "code",
   "execution_count": 18,
   "metadata": {
    "_datascience": {},
    "collapsed": false,
    "slideshow": {
     "slide_type": "subslide"
    }
   },
   "outputs": [
    {
     "name": "stdout",
     "output_type": "stream",
     "text": [
      "0\n"
     ]
    }
   ],
   "source": [
    "print(algo.pipe('i like you').result)"
   ]
  },
  {
   "cell_type": "code",
   "execution_count": 19,
   "metadata": {
    "_datascience": {},
    "collapsed": false,
    "slideshow": {
     "slide_type": "subslide"
    }
   },
   "outputs": [
    {
     "name": "stdout",
     "output_type": "stream",
     "text": [
      "0.25\n"
     ]
    }
   ],
   "source": [
    "rFU = algo.pipe('fuck you')\n",
    "print(rFU.result)"
   ]
  },
  {
   "cell_type": "markdown",
   "metadata": {
    "_datascience": {}
   },
   "source": [
    "The last one is obviously surprising.  One would expect that to be negative sentiment.  The middle is also strange.  Let's now see what happens on a more real world example, in an email I drafted to a company."
   ]
  },
  {
   "cell_type": "code",
   "execution_count": 20,
   "metadata": {
    "_datascience": {},
    "collapsed": false,
    "slideshow": {
     "slide_type": "slide"
    }
   },
   "outputs": [
    {
     "name": "stdout",
     "output_type": "stream",
     "text": [
      "Hi credit card provider.  In my most recent statement, a finance charge of 14.90 is applied.  However, since the last statement, I paid the full previous balance, in fact, I paid several hundred over it.  What is the justification for this charge?\n"
     ]
    }
   ],
   "source": [
    "email = 'Hi credit card provider.  In my most recent statement, a finance charge of 14.90 is applied.  However, since the last statement, I paid the full previous balance, in fact, I paid several hundred over it.  What is the justification for this charge?'\n",
    "print(email)"
   ]
  },
  {
   "cell_type": "code",
   "execution_count": 21,
   "metadata": {
    "_datascience": {},
    "collapsed": false,
    "slideshow": {
     "slide_type": "subslide"
    }
   },
   "outputs": [
    {
     "name": "stdout",
     "output_type": "stream",
     "text": [
      "AlgoResponse(result=-0.23197091273,metadata=Metadata(content_type='json',duration=0.00975929,stdout=None))\n"
     ]
    }
   ],
   "source": [
    "rEmail = algo.pipe(email)\n",
    "print(rEmail)"
   ]
  },
  {
   "cell_type": "markdown",
   "metadata": {
    "_datascience": {}
   },
   "source": [
    "Ok, the score is pretty close to neutral (0.0) which makes sense given that I was trying to be pretty cordial.  How does it change if I tack on \"I hate this\"."
   ]
  },
  {
   "cell_type": "code",
   "execution_count": 22,
   "metadata": {
    "_datascience": {},
    "collapsed": false,
    "slideshow": {
     "slide_type": "slide"
    }
   },
   "outputs": [
    {
     "name": "stdout",
     "output_type": "stream",
     "text": [
      "AlgoResponse(result=-0.98197091273,metadata=Metadata(content_type='json',duration=0.010220991,stdout=None))\n"
     ]
    }
   ],
   "source": [
    "rHate = algo.pipe(email + ' I hate this')\n",
    "print(rHate)"
   ]
  },
  {
   "cell_type": "markdown",
   "metadata": {
    "_datascience": {}
   },
   "source": [
    "As one would expect, sentiment goes negative.  Now let's consider the result when we add in a different explative."
   ]
  },
  {
   "cell_type": "code",
   "execution_count": 23,
   "metadata": {
    "_datascience": {},
    "collapsed": false,
    "slideshow": {
     "slide_type": "subslide"
    }
   },
   "outputs": [
    {
     "name": "stdout",
     "output_type": "stream",
     "text": [
      "AlgoResponse(result=0.0180290872705,metadata=Metadata(content_type='json',duration=0.006732819,stdout=None))\n"
     ]
    }
   ],
   "source": [
    "rEmailFu = algo.pipe(email + ' fuck you')\n",
    "print(rEmailFu)"
   ]
  },
  {
   "cell_type": "markdown",
   "metadata": {
    "_datascience": {}
   },
   "source": [
    "Hmmm.  I notice something suspicious.  Adding this explative increases the sentiment, which is consistent with the earlier discovery that the wrong sentiment is applied to this addendum.  Can we reverse engineer what's going on here?"
   ]
  },
  {
   "cell_type": "code",
   "execution_count": 25,
   "metadata": {
    "_datascience": {},
    "collapsed": false,
    "slideshow": {
     "slide_type": "subslide"
    }
   },
   "outputs": [
    {
     "name": "stdout",
     "output_type": "stream",
     "text": [
      "0.25\n",
      "0.25\n"
     ]
    }
   ],
   "source": [
    "print(rEmailFu.result - rEmail.result)\n",
    "print(rFU.result)"
   ]
  },
  {
   "cell_type": "markdown",
   "metadata": {
    "_datascience": {}
   },
   "source": [
    "Indeed, the different between the score of the email with and with out this addendum is exactly the score of that result alone.  Clearly, this is a somewhat naive model that doesn't take content into consideration well.  It seems to have some weights for individual words, regardless of their use.  Not bad for a first try though!  Kudos to the author for providing this basic service.  There's room for improvement here.  We could regard this as a \"hack\" because now that I understand how this model works, I can exploit it.  If I knew of a system that was scoring sentiment based on this, I could bias that system."
   ]
  }
 ],
 "metadata": {
  "_datascience": {},
  "celltoolbar": "Slideshow",
  "kernelspec": {
   "display_name": "Python 2",
   "language": "python",
   "name": "python2"
  },
  "language_info": {
   "codemirror_mode": {
    "name": "ipython",
    "version": 2
   },
   "file_extension": ".py",
   "mimetype": "text/x-python",
   "name": "python",
   "nbconvert_exporter": "python",
   "pygments_lexer": "ipython2",
   "version": "2.7.6"
  }
 },
 "nbformat": 4,
 "nbformat_minor": 0
}
