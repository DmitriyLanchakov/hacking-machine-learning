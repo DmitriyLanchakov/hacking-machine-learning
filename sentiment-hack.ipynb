{
 "cells": [
  {
   "cell_type": "code",
   "execution_count": 46,
   "metadata": {
    "collapsed": true
   },
   "outputs": [],
   "source": [
    "%matplotlib inline\n",
    "import matplotlib.pyplot as plt\n",
    "import Algorithmia\n",
    "import numpy as np\n",
    "import ConfigParser"
   ]
  },
  {
   "cell_type": "code",
   "execution_count": null,
   "metadata": {
    "collapsed": true
   },
   "outputs": [],
   "source": [
    "propertiesFile = \"my.properties\"\n",
    "cp = ConfigParser.ConfigParser()\n",
    "cp.readfp(open(propertiesFile))\n",
    "\n",
    "client_key = cp.get('algorithmia', 'client')"
   ]
  },
  {
   "cell_type": "code",
   "execution_count": 2,
   "metadata": {
    "collapsed": true
   },
   "outputs": [],
   "source": [
    "client = Algorithmia.client('sime9LW7bScBtTy8eag15oGxNKc1')\n",
    "algo = client.algo('mtman/SentimentAnalysis/0.1.1')"
   ]
  },
  {
   "cell_type": "code",
   "execution_count": 3,
   "metadata": {
    "collapsed": true
   },
   "outputs": [],
   "source": [
    "inputs = ['I absolutely love the Hope Conference.  It is the most fun I have had in months!'\n",
    "          , 'Radio Statler broadcasts from the Hotel Pennsylvania during Hope xi'\n",
    "          , 'I hate the government because they spy on my email!!! Its the worst!']\n",
    "\n",
    "results = []\n",
    "for input in inputs:\n",
    "    results.append(algo.pipe(input))"
   ]
  },
  {
   "cell_type": "code",
   "execution_count": 4,
   "metadata": {
    "collapsed": true
   },
   "outputs": [],
   "source": [
    "scores = []\n",
    "for result in results:\n",
    "    scores.append(result.result)"
   ]
  },
  {
   "cell_type": "code",
   "execution_count": 6,
   "metadata": {
    "collapsed": false
   },
   "outputs": [
    {
     "data": {
      "image/png": "[encoded data removed]",
      "text/plain": [
       "<matplotlib.figure.Figure at 0x1069b8650>"
      ]
     },
     "metadata": {},
     "output_type": "display_data"
    }
   ],
   "source": [
    "x = np.arange(len(scores))\n",
    "plt.barh(x, scores)\n",
    "plt.xlabel('Sentiment score')\n",
    "plt.yticks(x + 0.4, inputs, fontsize=12)\n",
    "plt.gca().spines['top'].set_visible(False)\n",
    "plt.gca().spines['right'].set_visible(False)\n",
    "\n",
    "plt.show()"
   ]
  },
  {
   "cell_type": "code",
   "execution_count": 18,
   "metadata": {
    "collapsed": false
   },
   "outputs": [
    {
     "name": "stdout",
     "output_type": "stream",
     "text": [
      "-0.75\n"
     ]
    }
   ],
   "source": [
    "print(algo.pipe('i hate this').result)"
   ]
  },
  {
   "cell_type": "code",
   "execution_count": 19,
   "metadata": {
    "collapsed": false
   },
   "outputs": [
    {
     "name": "stdout",
     "output_type": "stream",
     "text": [
      "0\n"
     ]
    }
   ],
   "source": [
    "print(algo.pipe('i like you').result)"
   ]
  },
  {
   "cell_type": "code",
   "execution_count": 41,
   "metadata": {
    "collapsed": false
   },
   "outputs": [
    {
     "name": "stdout",
     "output_type": "stream",
     "text": [
      "0.25\n"
     ]
    }
   ],
   "source": [
    "rFU = algo.pipe('fuck you')\n",
    "print(rFU.result)"
   ]
  },
  {
   "cell_type": "code",
   "execution_count": 21,
   "metadata": {
    "collapsed": false
   },
   "outputs": [],
   "source": [
    "email = 'Hi credit card provider.  In my most recent statement, a finance charge of 14.90 is applied.  However, since the last statement, I paid the full previous balance, in fact, I paid several hundred over it.  What is the justification for this charge?'"
   ]
  },
  {
   "cell_type": "code",
   "execution_count": 22,
   "metadata": {
    "collapsed": false
   },
   "outputs": [
    {
     "name": "stdout",
     "output_type": "stream",
     "text": [
      "Hi credit card provider.  In my most recent statement, a finance charge of 14.90 is applied.  However, since the last statement, I paid the full previous balance, in fact, I paid several hundred over it.  What is the justification for this charge?\n"
     ]
    }
   ],
   "source": [
    "print(email)"
   ]
  },
  {
   "cell_type": "code",
   "execution_count": 42,
   "metadata": {
    "collapsed": false
   },
   "outputs": [
    {
     "name": "stdout",
     "output_type": "stream",
     "text": [
      "AlgoResponse(result=-0.23197091273,metadata=Metadata(content_type='json',duration=0.006093262,stdout=None))\n"
     ]
    }
   ],
   "source": [
    "rEmail = algo.pipe(email)\n",
    "print(rEmail)"
   ]
  },
  {
   "cell_type": "code",
   "execution_count": 43,
   "metadata": {
    "collapsed": false
   },
   "outputs": [
    {
     "name": "stdout",
     "output_type": "stream",
     "text": [
      "AlgoResponse(result=-0.98197091273,metadata=Metadata(content_type='json',duration=0.004613427,stdout=None))\n"
     ]
    }
   ],
   "source": [
    "rHate = algo.pipe(email + ' I hate this')\n",
    "print(rHate)"
   ]
  },
  {
   "cell_type": "code",
   "execution_count": 44,
   "metadata": {
    "collapsed": false
   },
   "outputs": [
    {
     "name": "stdout",
     "output_type": "stream",
     "text": [
      "AlgoResponse(result=0.0180290872705,metadata=Metadata(content_type='json',duration=0.004609781,stdout=None))\n"
     ]
    }
   ],
   "source": [
    "rEmailFu = algo.pipe(email + ' fuck you')\n",
    "print(rEmailFu)"
   ]
  },
  {
   "cell_type": "code",
   "execution_count": 45,
   "metadata": {
    "collapsed": false
   },
   "outputs": [
    {
     "name": "stdout",
     "output_type": "stream",
     "text": [
      "0.25\n",
      "0.25\n"
     ]
    }
   ],
   "source": [
    "print(rEmailFu.result - rEmail.result)\n",
    "print(rFU.result)"
   ]
  }
 ],
 "metadata": {
  "kernelspec": {
   "display_name": "Python 2",
   "language": "python",
   "name": "python2"
  },
  "language_info": {
   "codemirror_mode": {
    "name": "ipython",
    "version": 2
   },
   "file_extension": ".py",
   "mimetype": "text/x-python",
   "name": "python",
   "nbconvert_exporter": "python",
   "pygments_lexer": "ipython2",
   "version": "2.7.9"
  }
 },
 "nbformat": 4,
 "nbformat_minor": 0
}
